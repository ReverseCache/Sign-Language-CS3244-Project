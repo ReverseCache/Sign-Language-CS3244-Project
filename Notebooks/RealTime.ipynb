{
 "cells": [
  {
   "cell_type": "markdown",
   "metadata": {},
   "source": [
    "# Dependancies"
   ]
  },
  {
   "cell_type": "code",
   "execution_count": 1,
   "metadata": {},
   "outputs": [],
   "source": [
    "import mediapipe as mp\n",
    "import cv2 as ocv\n"
   ]
  },
  {
   "cell_type": "markdown",
   "metadata": {},
   "source": [
    "# Variable Control Sliders"
   ]
  },
  {
   "cell_type": "code",
   "execution_count": 2,
   "metadata": {},
   "outputs": [],
   "source": [
    "#mp_holistic Parameters \n",
    "static_image_mode = False\n",
    "model_complexity = 2 #set to 1 if on weaker hardware\n",
    "smooth_landmarks = True\n",
    "enable_segmentation = False\n",
    "smooth_segmentation = False\n",
    "holistic_min_detection_confidence = 0.5\n",
    "holistic_min_tracking_confidence = 0.5\n",
    "\n",
    "#Landmark Colour Control\n",
    "\n",
    "\n",
    "#OpenCv window control\n",
    "flip_image = False\n",
    "exit_ = False"
   ]
  },
  {
   "cell_type": "markdown",
   "metadata": {},
   "source": [
    "# Pose Detection"
   ]
  },
  {
   "cell_type": "code",
   "execution_count": 3,
   "metadata": {},
   "outputs": [],
   "source": [
    "mp_drawing = mp.solutions.drawing_utils\n",
    "mp_drawing_styles = mp.solutions.drawing_styles\n",
    "mp_holistic = mp.solutions.holistic\n"
   ]
  },
  {
   "cell_type": "markdown",
   "metadata": {},
   "source": [
    "# Camera control"
   ]
  },
  {
   "cell_type": "markdown",
   "metadata": {},
   "source": [
    "## Brute Force Search For Available Cameras\n",
    "<a href=\"https://docs.opencv.org/4.5.3/d4/d15/group__videoio__flags__base.html#ga023786be1ee68a9105bf2e48c700294d\"><big><font color = cyan>Documents on Extra VideoCapture Api Preferences</font><big></a>"
   ]
  },
  {
   "cell_type": "code",
   "execution_count": null,
   "metadata": {},
   "outputs": [],
   "source": [
    "# Search For Available Cameras (Run only to find which port is in use)\n",
    "for i in range(1600):\n",
    "    cap = ocv.VideoCapture(i)\n",
    "    bool, image = cap.read()\n",
    "    if bool:\n",
    "        print(i)\n",
    "    cap.release()"
   ]
  },
  {
   "cell_type": "markdown",
   "metadata": {},
   "source": [
    "## Colour conversion and Pose Model Processing"
   ]
  },
  {
   "cell_type": "code",
   "execution_count": 4,
   "metadata": {},
   "outputs": [],
   "source": [
    "def mediapipe_opencv_transform(image,mp_model):\n",
    "    image = ocv.cvtColor(image, ocv.COLOR_BGR2RGB) # Color space transform from ocv to mediapipe\n",
    "    image.flags.writeable = False #Set Image Array to read only(immutable) \n",
    "    results = mp_model.process(image) #Run model on the image array\n",
    "    image.flags.writeable = True #Set Image Array to be writable again(mutable)\n",
    "    image = ocv.cvtColor(image, ocv.COLOR_RGB2BGR) # Color space transform from mediapipe to ocv\n",
    "    return image,results"
   ]
  },
  {
   "cell_type": "markdown",
   "metadata": {},
   "source": [
    "## Drawing Landmarks"
   ]
  },
  {
   "cell_type": "code",
   "execution_count": 5,
   "metadata": {},
   "outputs": [],
   "source": [
    "def landmarks(iamge,results):\n",
    "    mp_drawing.draw_landmarks(image,results.right_hand_landmarks,mp_holistic.HAND_CONNECTIONS,landmark_drawing_spec=mp_drawing_styles.get_default_pose_landmarks_style())\n",
    "    mp_drawing.draw_landmarks(image,results.left_hand_landmarks,mp_holistic.HAND_CONNECTIONS,landmark_drawing_spec=mp_drawing_styles.get_default_pose_landmarks_style())\n",
    "    pass"
   ]
  },
  {
   "cell_type": "markdown",
   "metadata": {},
   "source": [
    "## Video Capture "
   ]
  },
  {
   "cell_type": "code",
   "execution_count": 6,
   "metadata": {},
   "outputs": [],
   "source": [
    "vidcap = ocv.VideoCapture(1400)\n",
    "\n",
    "with mp_holistic.Holistic(\n",
    "        static_image_mode = static_image_mode,\n",
    "        model_complexity = model_complexity,\n",
    "        smooth_landmarks = smooth_landmarks,\n",
    "        smooth_segmentation = smooth_segmentation,\n",
    "        min_detection_confidence=holistic_min_detection_confidence,\n",
    "        min_tracking_confidence=holistic_min_tracking_confidence)\\\n",
    "        as holistic:\n",
    "    while vidcap.isOpened():\n",
    "\n",
    "        # Camera input\n",
    "        # success is the boolean and image is the video frame output\n",
    "        success, image = vidcap.read()\n",
    "\n",
    "        # Run Model on Input and draw landmarks\n",
    "        image, results = mediapipe_opencv_transform(image,holistic)\n",
    "        landmarks(image,results)\n",
    "\n",
    "        # Selfie mode control\n",
    "        if ocv.waitKey(5) & 0xFF == ord('f'):\n",
    "            flip_image = not flip_image\n",
    "            # uncomment to test flip state\n",
    "            # print(flip_image)\n",
    "\n",
    "        if flip_image:\n",
    "            image = ocv.flip(image, 1)\n",
    "\n",
    "        # Camera Video Feed is just an arbitrary window name\n",
    "        ocv.imshow('Camera Video Feed', image)\n",
    "\n",
    "        # Exit Feed (using q key)\n",
    "        # reason for 0xff is waitKey() returns 32 bit integer but key input(Ascii) is 8 bit so u want rest of 32 to be 0 as 0xFF = 11111111 and & is bitwise operator\n",
    "        if ocv.waitKey(5) & 0xFF == ord('q'):\n",
    "            exit_ = not exit_\n",
    "        if exit_:\n",
    "            break\n",
    "vidcap.release()\n",
    "#exit_ reset to False is here because if you dont rerun the notebook and rather rerun the cell exit would be set to true\n",
    "exit_ = False \n",
    "ocv.destroyAllWindows()\n"
   ]
  },
  {
   "cell_type": "code",
   "execution_count": 8,
   "metadata": {},
   "outputs": [
    {
     "data": {
      "text/plain": [
       "landmark {\n",
       "  x: 0.7193172574043274\n",
       "  y: 0.7153005599975586\n",
       "  z: 0.0\n",
       "}\n",
       "landmark {\n",
       "  x: 0.697898268699646\n",
       "  y: 0.7259695529937744\n",
       "  z: -0.01574881374835968\n",
       "}\n",
       "landmark {\n",
       "  x: 0.6868701577186584\n",
       "  y: 0.7381631135940552\n",
       "  z: -0.02787710353732109\n",
       "}\n",
       "landmark {\n",
       "  x: 0.6903369426727295\n",
       "  y: 0.7531465291976929\n",
       "  z: -0.03468058630824089\n",
       "}\n",
       "landmark {\n",
       "  x: 0.7032378315925598\n",
       "  y: 0.7622925639152527\n",
       "  z: -0.0405447855591774\n",
       "}\n",
       "landmark {\n",
       "  x: 0.7179740071296692\n",
       "  y: 0.7140053510665894\n",
       "  z: -0.05237172544002533\n",
       "}\n",
       "landmark {\n",
       "  x: 0.7228101491928101\n",
       "  y: 0.7522460222244263\n",
       "  z: -0.05974730849266052\n",
       "}\n",
       "landmark {\n",
       "  x: 0.7154298424720764\n",
       "  y: 0.7696994543075562\n",
       "  z: -0.05531333386898041\n",
       "}\n",
       "landmark {\n",
       "  x: 0.7091960310935974\n",
       "  y: 0.7778002619743347\n",
       "  z: -0.05079345777630806\n",
       "}\n",
       "landmark {\n",
       "  x: 0.7358927726745605\n",
       "  y: 0.7155108451843262\n",
       "  z: -0.04611185938119888\n",
       "}\n",
       "landmark {\n",
       "  x: 0.7382232546806335\n",
       "  y: 0.763120174407959\n",
       "  z: -0.05121281370520592\n",
       "}\n",
       "landmark {\n",
       "  x: 0.7281030416488647\n",
       "  y: 0.7753741145133972\n",
       "  z: -0.04182889685034752\n",
       "}\n",
       "landmark {\n",
       "  x: 0.7203291654586792\n",
       "  y: 0.7761026620864868\n",
       "  z: -0.0351690873503685\n",
       "}\n",
       "landmark {\n",
       "  x: 0.7478469014167786\n",
       "  y: 0.7231956124305725\n",
       "  z: -0.03785369172692299\n",
       "}\n",
       "landmark {\n",
       "  x: 0.7498326301574707\n",
       "  y: 0.7658223509788513\n",
       "  z: -0.04226577654480934\n",
       "}\n",
       "landmark {\n",
       "  x: 0.7401919960975647\n",
       "  y: 0.7755327224731445\n",
       "  z: -0.035369884222745895\n",
       "}\n",
       "landmark {\n",
       "  x: 0.731480062007904\n",
       "  y: 0.7733975648880005\n",
       "  z: -0.030732378363609314\n",
       "}\n",
       "landmark {\n",
       "  x: 0.754637598991394\n",
       "  y: 0.7337425351142883\n",
       "  z: -0.029790567234158516\n",
       "}\n",
       "landmark {\n",
       "  x: 0.7593897581100464\n",
       "  y: 0.7670204043388367\n",
       "  z: -0.034526269882917404\n",
       "}\n",
       "landmark {\n",
       "  x: 0.7532504200935364\n",
       "  y: 0.7759769558906555\n",
       "  z: -0.03246212750673294\n",
       "}\n",
       "landmark {\n",
       "  x: 0.746139407157898\n",
       "  y: 0.7751711010932922\n",
       "  z: -0.030144676566123962\n",
       "}"
      ]
     },
     "execution_count": 8,
     "metadata": {},
     "output_type": "execute_result"
    }
   ],
   "source": [
    "results.left_hand_landmarks"
   ]
  }
 ],
 "metadata": {
  "interpreter": {
   "hash": "5217fac808372f2f6505ae6f54f4128aab8c8f29cf736dc8d94f727f2e56f7e7"
  },
  "kernelspec": {
   "display_name": "Python 3.9.5 64-bit",
   "name": "python3"
  },
  "language_info": {
   "codemirror_mode": {
    "name": "ipython",
    "version": 3
   },
   "file_extension": ".py",
   "mimetype": "text/x-python",
   "name": "python",
   "nbconvert_exporter": "python",
   "pygments_lexer": "ipython3",
   "version": "3.9.5"
  },
  "orig_nbformat": 4
 },
 "nbformat": 4,
 "nbformat_minor": 2
}
